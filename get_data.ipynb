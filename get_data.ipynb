{
 "cells": [
  {
   "cell_type": "code",
   "execution_count": 12,
   "metadata": {},
   "outputs": [
    {
     "ename": "AttributeError",
     "evalue": "module 'ccxt' has no attribute 'coinmarketcap'",
     "output_type": "error",
     "traceback": [
      "\u001b[0;31m---------------------------------------------------------------------------\u001b[0m",
      "\u001b[0;31mAttributeError\u001b[0m                            Traceback (most recent call last)",
      "Cell \u001b[0;32mIn[12], line 45\u001b[0m\n\u001b[1;32m     42\u001b[0m \u001b[39m# Iterate through the list of cryptocurrencies\u001b[39;00m\n\u001b[1;32m     43\u001b[0m \u001b[39mfor\u001b[39;00m crypto \u001b[39min\u001b[39;00m top_20_cryptos:\n\u001b[1;32m     44\u001b[0m   \u001b[39m# Initialize the CoinMarketCap exchange\u001b[39;00m\n\u001b[0;32m---> 45\u001b[0m   cmc \u001b[39m=\u001b[39m ccxt\u001b[39m.\u001b[39;49mcoinmarketcap()\n\u001b[1;32m     46\u001b[0m   \u001b[39m# Get the name of the cryptocurrency\u001b[39;00m\n\u001b[1;32m     47\u001b[0m   name \u001b[39m=\u001b[39m cmc\u001b[39m.\u001b[39mfetch_ticker(\u001b[39mf\u001b[39m\u001b[39m\"\u001b[39m\u001b[39m{\u001b[39;00mcrypto\u001b[39m}\u001b[39;00m\u001b[39m/USDT\u001b[39m\u001b[39m\"\u001b[39m)[\u001b[39m'\u001b[39m\u001b[39minfo\u001b[39m\u001b[39m'\u001b[39m][\u001b[39m'\u001b[39m\u001b[39mname\u001b[39m\u001b[39m'\u001b[39m]\n",
      "\u001b[0;31mAttributeError\u001b[0m: module 'ccxt' has no attribute 'coinmarketcap'"
     ]
    }
   ],
   "source": [
    "import ccxt\n",
    "import datetime\n",
    "import fastquant as fq\n",
    "import pandas as pd\n",
    "\n",
    "# Get today's date\n",
    "today = datetime.datetime.now()\n",
    "\n",
    "# Format the date as a string in the desired format\n",
    "end_date = today.strftime('%Y-%m-%d')\n",
    "\n",
    "# Set the start date\n",
    "start_date = '2021-01-01'\n",
    "\n",
    "# Get the list of the top 20 cryptocurrencies by market capitalization\n",
    "top_20_cryptos = top_20_cryptos = [\n",
    "  \"BTC\",\n",
    "  \"ETH\",\n",
    "  \"BNB\",\n",
    "  \"XRP\",\n",
    "  \"ADA\",\n",
    "  \"DOGE\",\n",
    "  \"MATIC\",\n",
    "  \"LTC\",\n",
    "  \"DOT\",\n",
    "  \"SOL\",\n",
    "  \"TRX\",\n",
    "  \"SHIB\",\n",
    "  \"UNI\",\n",
    "  \"AVAX\",\n",
    "  \"LINK\", \n",
    "  \"ATOM\", \n",
    "  \"XMR\", \n",
    "  \"ETC\",\n",
    "  \"XLM\",\n",
    "  \"BCH\"\n",
    "  ]\n",
    "\n",
    "# Initialize an empty list to store the data\n",
    "data_list = []\n",
    "\n",
    "# Iterate through the list of cryptocurrencies\n",
    "for crypto in top_20_cryptos:\n",
    "  # Initialize the CoinMarketCap exchange\n",
    "  cmc = ccxt.coinmarketcap()\n",
    "  # Get the name of the cryptocurrency\n",
    "  name = cmc.fetch_ticker(f\"{crypto}/USDT\")['info']['name']\n",
    "  # Retrieve the data for the cryptocurrency\n",
    "  data = fq.get_crypto_data(f\"{crypto}/USDT\", start_date, end_date)\n",
    "  # Add the symbol and name to the DataFrame\n",
    "  data = data.assign(symbol=crypto, name=name)\n",
    "  # Add the data to the list\n",
    "  data_list.append(data)\n",
    "\n",
    "# Concatenate the data frames together\n",
    "concatenated_data = pd.concat(data_list)\n"
   ]
  },
  {
   "cell_type": "code",
   "execution_count": 9,
   "metadata": {},
   "outputs": [
    {
     "data": {
      "text/html": [
       "<div>\n",
       "<style scoped>\n",
       "    .dataframe tbody tr th:only-of-type {\n",
       "        vertical-align: middle;\n",
       "    }\n",
       "\n",
       "    .dataframe tbody tr th {\n",
       "        vertical-align: top;\n",
       "    }\n",
       "\n",
       "    .dataframe thead th {\n",
       "        text-align: right;\n",
       "    }\n",
       "</style>\n",
       "<table border=\"1\" class=\"dataframe\">\n",
       "  <thead>\n",
       "    <tr style=\"text-align: right;\">\n",
       "      <th></th>\n",
       "      <th>open</th>\n",
       "      <th>high</th>\n",
       "      <th>low</th>\n",
       "      <th>close</th>\n",
       "      <th>volume</th>\n",
       "    </tr>\n",
       "    <tr>\n",
       "      <th>dt</th>\n",
       "      <th></th>\n",
       "      <th></th>\n",
       "      <th></th>\n",
       "      <th></th>\n",
       "      <th></th>\n",
       "    </tr>\n",
       "  </thead>\n",
       "  <tbody>\n",
       "    <tr>\n",
       "      <th>2021-01-01</th>\n",
       "      <td>28923.63</td>\n",
       "      <td>29600.00</td>\n",
       "      <td>28624.57</td>\n",
       "      <td>29331.69</td>\n",
       "      <td>54182.925011</td>\n",
       "    </tr>\n",
       "    <tr>\n",
       "      <th>2021-01-02</th>\n",
       "      <td>29331.70</td>\n",
       "      <td>33300.00</td>\n",
       "      <td>28946.53</td>\n",
       "      <td>32178.33</td>\n",
       "      <td>129993.873362</td>\n",
       "    </tr>\n",
       "    <tr>\n",
       "      <th>2021-01-03</th>\n",
       "      <td>32176.45</td>\n",
       "      <td>34778.11</td>\n",
       "      <td>31962.99</td>\n",
       "      <td>33000.05</td>\n",
       "      <td>120957.566750</td>\n",
       "    </tr>\n",
       "    <tr>\n",
       "      <th>2021-01-04</th>\n",
       "      <td>33000.05</td>\n",
       "      <td>33600.00</td>\n",
       "      <td>28130.00</td>\n",
       "      <td>31988.71</td>\n",
       "      <td>140899.885690</td>\n",
       "    </tr>\n",
       "    <tr>\n",
       "      <th>2021-01-05</th>\n",
       "      <td>31989.75</td>\n",
       "      <td>34360.00</td>\n",
       "      <td>29900.00</td>\n",
       "      <td>33949.53</td>\n",
       "      <td>116049.997038</td>\n",
       "    </tr>\n",
       "  </tbody>\n",
       "</table>\n",
       "</div>"
      ],
      "text/plain": [
       "                open      high       low     close         volume\n",
       "dt                                                               \n",
       "2021-01-01  28923.63  29600.00  28624.57  29331.69   54182.925011\n",
       "2021-01-02  29331.70  33300.00  28946.53  32178.33  129993.873362\n",
       "2021-01-03  32176.45  34778.11  31962.99  33000.05  120957.566750\n",
       "2021-01-04  33000.05  33600.00  28130.00  31988.71  140899.885690\n",
       "2021-01-05  31989.75  34360.00  29900.00  33949.53  116049.997038"
      ]
     },
     "execution_count": 9,
     "metadata": {},
     "output_type": "execute_result"
    }
   ],
   "source": [
    "concatenated_data.head()"
   ]
  },
  {
   "cell_type": "code",
   "execution_count": 2,
   "metadata": {},
   "outputs": [
    {
     "data": {
      "text/plain": [
       "20"
      ]
     },
     "execution_count": 2,
     "metadata": {},
     "output_type": "execute_result"
    }
   ],
   "source": [
    "\n",
    "len(top_20_cryptos)"
   ]
  },
  {
   "cell_type": "code",
   "execution_count": null,
   "metadata": {},
   "outputs": [],
   "source": [
    "concatenated_data"
   ]
  },
  {
   "cell_type": "code",
   "execution_count": null,
   "metadata": {},
   "outputs": [],
   "source": []
  }
 ],
 "metadata": {
  "kernelspec": {
   "display_name": "Python 3",
   "language": "python",
   "name": "python3"
  },
  "language_info": {
   "codemirror_mode": {
    "name": "ipython",
    "version": 3
   },
   "file_extension": ".py",
   "mimetype": "text/x-python",
   "name": "python",
   "nbconvert_exporter": "python",
   "pygments_lexer": "ipython3",
   "version": "3.10.4"
  },
  "orig_nbformat": 4,
  "vscode": {
   "interpreter": {
    "hash": "3ad933181bd8a04b432d3370b9dc3b0662ad032c4dfaa4e4f1596c548f763858"
   }
  }
 },
 "nbformat": 4,
 "nbformat_minor": 2
}
